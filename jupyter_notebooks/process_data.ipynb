{
  "cells": [
    {
      "cell_type": "code",
      "execution_count": null,
      "metadata": {},
      "outputs": [],
      "source": [
        "%pip install pandas"
      ]
    },
    {
      "cell_type": "code",
      "execution_count": 3,
      "metadata": {
        "id": "eyOFgs4KSVTZ"
      },
      "outputs": [],
      "source": [
        "import pandas\n",
        "import json\n",
        "import timeit\n",
        "import ast\n",
        "import requests"
      ]
    },
    {
      "cell_type": "code",
      "execution_count": 4,
      "metadata": {
        "id": "NRScJlytEkCd"
      },
      "outputs": [],
      "source": [
        "# REQUEST BULK DATA\n",
        "response = requests.get(\"https://api.scryfall.com/bulk-data/all-cards\") # The download uri this points to is a json file with over 400,000 files.\n",
        "if response.status_code != 200:\n",
        "    print(\"Response failed with status code: \" + str(response.status_code))\n",
        "data = response.json()"
      ]
    },
    {
      "cell_type": "code",
      "execution_count": 5,
      "metadata": {
        "id": "0btgOly5Fd8d"
      },
      "outputs": [],
      "source": [
        "# DOWNLOAD CARD DATA\n",
        "download = data[\"download_uri\"]\n",
        "downloaded = requests.get(download, stream=True)\n",
        "if downloaded.status_code != 200:\n",
        "  print(\"Download failed with status code: \" + str(downloaded.status_code))\n",
        "\n",
        "# SAVE DATA\n",
        "with open(\"data.json\", mode=\"wb\") as js:\n",
        "  for chunk in downloaded.iter_content(chunk_size=10 * 1024):\n",
        "    js.write(chunk)"
      ]
    },
    {
      "cell_type": "code",
      "execution_count": 1,
      "metadata": {
        "colab": {
          "base_uri": "https://localhost:8080/",
          "height": 516
        },
        "id": "-6NV2BUHGunl",
        "outputId": "89735a4c-2df1-432d-8a42-97bae4be49bd"
      },
      "outputs": [
        {
          "name": "stdout",
          "output_type": "stream",
          "text": [
            "433612\n",
            "16\n",
            "27100\n",
            "27101\n",
            "27101\n",
            "27101\n",
            "27100\n",
            "27101\n",
            "27101\n",
            "27101\n",
            "27100\n",
            "27101\n",
            "27101\n",
            "27101\n",
            "27100\n",
            "27101\n",
            "27101\n",
            "27101\n",
            "433612\n",
            "0\n"
          ]
        }
      ],
      "source": [
        "# PROCESS CARD DATA\n",
        "# A naive implementation of splitting a list recursively (may need to do this iteratively depending on size)\n",
        "def split(list, max):\n",
        "  # base case\n",
        "  if len(list) < max:\n",
        "    return [list]\n",
        "  else:\n",
        "    mid = len(list) // 2\n",
        "    a = split(list[0:mid], max)\n",
        "    b = split(list[mid: len(list)], max)\n",
        "    return a + b\n",
        "\n",
        "with open(\"data.json\", \"r\") as f:\n",
        "     json_data = f.readlines()\n",
        "     print(len(json_data))\n",
        "     # Passing in the list to split and then the total amount of elements per list\n",
        "     chunks = split(json_data, 50000)\n",
        "     print(len(chunks))\n",
        "     sum = 0\n",
        "     for i in chunks:\n",
        "      print(len(i))\n",
        "      sum += len(i)\n",
        "     print(sum)\n",
        "     print(len(json_data) - sum) # 0 means we didn't drop any columns"
      ]
    },
    {
      "cell_type": "code",
      "execution_count": 2,
      "metadata": {},
      "outputs": [
        {
          "name": "stdout",
          "output_type": "stream",
          "text": [
            "                                                   0\n",
            "0                                                [\\n\n",
            "1  {\"object\":\"card\",\"id\":\"0000579f-7b35-4ed3-b44c...\n",
            "2  {\"object\":\"card\",\"id\":\"00006596-1166-4a79-8443...\n",
            "3  {\"object\":\"card\",\"id\":\"00009878-d086-46f0-a964...\n",
            "4  {\"object\":\"card\",\"id\":\"0000a54c-a511-4925-92dc...\n",
            "                                                   0\n",
            "0  {\"object\":\"card\",\"id\":\"0fdbac1a-21a0-4098-a216...\n",
            "1  {\"object\":\"card\",\"id\":\"0fdbb6ae-7c37-44e5-aabb...\n",
            "2  {\"object\":\"card\",\"id\":\"0fdbd1c2-cfb2-4a5d-8f5a...\n",
            "3  {\"object\":\"card\",\"id\":\"0fdc0ac0-440c-48e8-bd91...\n",
            "4  {\"object\":\"card\",\"id\":\"0fdc177e-7e22-4677-a88b...\n",
            "                                                   0\n",
            "0  {\"object\":\"card\",\"id\":\"1ffc2e95-dd9b-4581-988f...\n",
            "1  {\"object\":\"card\",\"id\":\"1ffc62f8-4428-40f8-a526...\n",
            "2  {\"object\":\"card\",\"id\":\"1ffc6f3e-76b5-4401-8123...\n",
            "3  {\"object\":\"card\",\"id\":\"1ffc7dba-4ffc-4a27-bbd7...\n",
            "4  {\"object\":\"card\",\"id\":\"1ffc7f95-daed-452e-a114...\n",
            "                                                   0\n",
            "0  {\"object\":\"card\",\"id\":\"2fff03bb-2452-430c-9cf6...\n",
            "1  {\"object\":\"card\",\"id\":\"2fff103e-1570-483f-842f...\n",
            "2  {\"object\":\"card\",\"id\":\"2fff2b6f-e84c-4f13-82bd...\n",
            "3  {\"object\":\"card\",\"id\":\"2fff5367-ea98-490f-83da...\n",
            "4  {\"object\":\"card\",\"id\":\"2fff6824-ebd7-4a13-8897...\n",
            "                                                   0\n",
            "0  {\"object\":\"card\",\"id\":\"40244b70-7d8d-4684-b1c1...\n",
            "1  {\"object\":\"card\",\"id\":\"4024513f-0118-4565-a313...\n",
            "2  {\"object\":\"card\",\"id\":\"40245898-3b9b-42bf-af43...\n",
            "3  {\"object\":\"card\",\"id\":\"4024c07e-8efd-4c07-8dc6...\n",
            "4  {\"object\":\"card\",\"id\":\"4024deb1-e29c-4711-89c3...\n",
            "                                                   0\n",
            "0  {\"object\":\"card\",\"id\":\"500a3d00-9c5c-42d4-b40f...\n",
            "1  {\"object\":\"card\",\"id\":\"500a58c6-c24d-4b72-ba96...\n",
            "2  {\"object\":\"card\",\"id\":\"500a74ec-b75e-4c77-b6b6...\n",
            "3  {\"object\":\"card\",\"id\":\"500a799d-1294-4c46-aad5...\n",
            "4  {\"object\":\"card\",\"id\":\"500a82f4-5070-47ab-b0a4...\n",
            "                                                   0\n",
            "0  {\"object\":\"card\",\"id\":\"5feb74a2-d5b9-4f37-93e3...\n",
            "1  {\"object\":\"card\",\"id\":\"5feb9a4b-1e04-42e0-9c9b...\n",
            "2  {\"object\":\"card\",\"id\":\"5febd293-0161-4515-b483...\n",
            "3  {\"object\":\"card\",\"id\":\"5febd3f2-02c4-4ed8-b6a2...\n",
            "4  {\"object\":\"card\",\"id\":\"5fec09ec-a300-4d3c-8054...\n",
            "                                                   0\n",
            "0  {\"object\":\"card\",\"id\":\"7014b9fc-a906-4ffd-a482...\n",
            "1  {\"object\":\"card\",\"id\":\"7014d280-e6a9-49d6-b221...\n",
            "2  {\"object\":\"card\",\"id\":\"7014d2a7-cdee-4ee8-8b9b...\n",
            "3  {\"object\":\"card\",\"id\":\"7014d309-ba51-437e-a0a5...\n",
            "4  {\"object\":\"card\",\"id\":\"7015022a-5721-4291-87a2...\n",
            "                                                   0\n",
            "0  {\"object\":\"card\",\"id\":\"8021c1ef-6645-420b-918f...\n",
            "1  {\"object\":\"card\",\"id\":\"80220642-b426-420d-8dd4...\n",
            "2  {\"object\":\"card\",\"id\":\"802211eb-f9d5-484c-952f...\n",
            "3  {\"object\":\"card\",\"id\":\"80221e0c-5ecf-4391-8393...\n",
            "4  {\"object\":\"card\",\"id\":\"80225482-6566-41fb-ade7...\n",
            "                                                   0\n",
            "0  {\"object\":\"card\",\"id\":\"90314d3b-efa9-452d-8709...\n",
            "1  {\"object\":\"card\",\"id\":\"903168f6-c195-47af-bdf7...\n",
            "2  {\"object\":\"card\",\"id\":\"90317f5e-d121-4c00-86cc...\n",
            "3  {\"object\":\"card\",\"id\":\"90319f00-8445-46c5-9e9d...\n",
            "4  {\"object\":\"card\",\"id\":\"9031cb41-705f-47d7-96b6...\n",
            "                                                   0\n",
            "0  {\"object\":\"card\",\"id\":\"a0425c95-0fec-49a7-8d44...\n",
            "1  {\"object\":\"card\",\"id\":\"a042b96a-c967-4921-aee8...\n",
            "2  {\"object\":\"card\",\"id\":\"a042c5a8-bba2-4a80-b2db...\n",
            "3  {\"object\":\"card\",\"id\":\"a04340bd-747b-47b3-82d4...\n",
            "4  {\"object\":\"card\",\"id\":\"a0435cd6-1caf-4bd0-9b04...\n",
            "                                                   0\n",
            "0  {\"object\":\"card\",\"id\":\"b048f611-72ab-46d9-8538...\n",
            "1  {\"object\":\"card\",\"id\":\"b049216c-7fad-4da9-805d...\n",
            "2  {\"object\":\"card\",\"id\":\"b04929b1-63b3-4691-8387...\n",
            "3  {\"object\":\"card\",\"id\":\"b0493631-f953-450f-a78f...\n",
            "4  {\"object\":\"card\",\"id\":\"b049c1db-62ba-4a69-a292...\n",
            "                                                   0\n",
            "0  {\"object\":\"card\",\"id\":\"c0264be0-cc0e-49be-8bd6...\n",
            "1  {\"object\":\"card\",\"id\":\"c026b635-bce4-4852-b258...\n",
            "2  {\"object\":\"card\",\"id\":\"c026d5e0-cff2-4868-b1e0...\n",
            "3  {\"object\":\"card\",\"id\":\"c026e1a5-011b-449a-98f2...\n",
            "4  {\"object\":\"card\",\"id\":\"c02721f5-e052-4e34-b69d...\n",
            "                                                   0\n",
            "0  {\"object\":\"card\",\"id\":\"d00d0883-9fd3-4278-9006...\n",
            "1  {\"object\":\"card\",\"id\":\"d00d15e0-1319-467d-bc45...\n",
            "2  {\"object\":\"card\",\"id\":\"d00d2e53-3881-4209-aa44...\n",
            "3  {\"object\":\"card\",\"id\":\"d00d618d-abad-475b-b938...\n",
            "4  {\"object\":\"card\",\"id\":\"d00d63c3-85a5-4c2d-bdba...\n",
            "                                                   0\n",
            "0  {\"object\":\"card\",\"id\":\"dfe51ad5-d786-4de3-aa39...\n",
            "1  {\"object\":\"card\",\"id\":\"dfe53841-6431-4b70-8c31...\n",
            "2  {\"object\":\"card\",\"id\":\"dfe57ad5-8826-443c-819a...\n",
            "3  {\"object\":\"card\",\"id\":\"dfe5d68f-529c-4ab7-ae98...\n",
            "4  {\"object\":\"card\",\"id\":\"dfe5f61a-e20f-4c1f-bc7c...\n",
            "                                                   0\n",
            "0  {\"object\":\"card\",\"id\":\"f0019f69-33cf-4af2-bc16...\n",
            "1  {\"object\":\"card\",\"id\":\"f00225d6-8095-4071-84f6...\n",
            "2  {\"object\":\"card\",\"id\":\"f0024556-0317-4c28-83c3...\n",
            "3  {\"object\":\"card\",\"id\":\"f00264ad-4840-4ae6-af4a...\n",
            "4  {\"object\":\"card\",\"id\":\"f00268f0-461a-4e95-8c22...\n"
          ]
        }
      ],
      "source": [
        "import pandas\n",
        "\n",
        "for chunk in chunks:\n",
        "  df = pandas.DataFrame(chunk)\n",
        "  # Each of these are being processed as a string\n",
        "  print(df.head())"
      ]
    },
    {
      "cell_type": "code",
      "execution_count": null,
      "metadata": {},
      "outputs": [],
      "source": []
    }
  ],
  "metadata": {
    "colab": {
      "provenance": []
    },
    "kernelspec": {
      "display_name": "Python 3",
      "name": "python3"
    },
    "language_info": {
      "codemirror_mode": {
        "name": "ipython",
        "version": 3
      },
      "file_extension": ".py",
      "mimetype": "text/x-python",
      "name": "python",
      "nbconvert_exporter": "python",
      "pygments_lexer": "ipython3",
      "version": "3.10.12"
    }
  },
  "nbformat": 4,
  "nbformat_minor": 0
}

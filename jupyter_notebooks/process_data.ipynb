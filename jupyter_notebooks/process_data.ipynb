{
  "cells": [
    {
      "cell_type": "code",
      "execution_count": null,
      "metadata": {},
      "outputs": [],
      "source": [
        "%pip install pandas"
      ]
    },
    {
      "cell_type": "code",
      "execution_count": 3,
      "metadata": {
        "id": "eyOFgs4KSVTZ"
      },
      "outputs": [],
      "source": [
        "import pandas\n",
        "import json\n",
        "import timeit\n",
        "import ast\n",
        "import requests"
      ]
    },
    {
      "cell_type": "code",
      "execution_count": 4,
      "metadata": {
        "id": "NRScJlytEkCd"
      },
      "outputs": [],
      "source": [
        "# REQUEST BULK DATA\n",
        "response = requests.get(\"https://api.scryfall.com/bulk-data/all-cards\") # The download uri this points to is a json file with over 400,000 files.\n",
        "if response.status_code != 200:\n",
        "    print(\"Response failed with status code: \" + str(response.status_code))\n",
        "data = response.json()"
      ]
    },
    {
      "cell_type": "code",
      "execution_count": 5,
      "metadata": {
        "id": "0btgOly5Fd8d"
      },
      "outputs": [],
      "source": [
        "# DOWNLOAD CARD DATA\n",
        "download = data[\"download_uri\"]\n",
        "downloaded = requests.get(download, stream=True)\n",
        "if downloaded.status_code != 200:\n",
        "  print(\"Download failed with status code: \" + str(downloaded.status_code))\n",
        "\n",
        "# SAVE DATA\n",
        "with open(\"data.json\", mode=\"wb\") as js:\n",
        "  for chunk in downloaded.iter_content(chunk_size=10 * 1024):\n",
        "    js.write(chunk)"
      ]
    },
    {
      "cell_type": "code",
      "execution_count": 1,
      "metadata": {
        "colab": {
          "base_uri": "https://localhost:8080/",
          "height": 516
        },
        "id": "-6NV2BUHGunl",
        "outputId": "89735a4c-2df1-432d-8a42-97bae4be49bd"
      },
      "outputs": [
        {
          "name": "stdout",
          "output_type": "stream",
          "text": [
            "433612\n",
            "16\n",
            "27100\n",
            "27101\n",
            "27101\n",
            "27101\n",
            "27100\n",
            "27101\n",
            "27101\n",
            "27101\n",
            "27100\n",
            "27101\n",
            "27101\n",
            "27101\n",
            "27100\n",
            "27101\n",
            "27101\n",
            "27101\n",
            "433612\n",
            "0\n"
          ]
        }
      ],
      "source": [
        "# PROCESS CARD DATA\n",
        "# A naive implementation of splitting a list recursively (may need to do this iteratively depending on size)\n",
        "def split(list, max):\n",
        "  # base case\n",
        "  if len(list) < max:\n",
        "    return [list]\n",
        "  else:\n",
        "    mid = len(list) // 2\n",
        "    a = split(list[0:mid], max)\n",
        "    b = split(list[mid: len(list)], max)\n",
        "    return a + b\n",
        "\n",
        "with open(\"data.json\", \"r\") as f:\n",
        "     json_data = f.readlines()\n",
        "     print(len(json_data))\n",
        "     # Passing in the list to split and then the total amount of elements per list\n",
        "     chunks = split(json_data, 50000)\n",
        "     print(len(chunks))\n",
        "     sum = 0\n",
        "     for i in chunks:\n",
        "      print(len(i))\n",
        "      sum += len(i)\n",
        "     print(sum)\n",
        "     print(len(json_data) - sum) # 0 means we didn't drop any columns"
      ]
    },
    {
      "cell_type": "code",
      "execution_count": null,
      "metadata": {},
      "outputs": [],
      "source": []
    }
  ],
  "metadata": {
    "colab": {
      "provenance": []
    },
    "kernelspec": {
      "display_name": "Python 3",
      "name": "python3"
    },
    "language_info": {
      "codemirror_mode": {
        "name": "ipython",
        "version": 3
      },
      "file_extension": ".py",
      "mimetype": "text/x-python",
      "name": "python",
      "nbconvert_exporter": "python",
      "pygments_lexer": "ipython3",
      "version": "3.10.12"
    }
  },
  "nbformat": 4,
  "nbformat_minor": 0
}

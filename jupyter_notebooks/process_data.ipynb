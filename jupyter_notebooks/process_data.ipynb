{
  "cells": [
    {
      "cell_type": "code",
      "execution_count": null,
      "metadata": {},
      "outputs": [],
      "source": [
        "%pip install pandas"
      ]
    },
    {
      "cell_type": "code",
      "execution_count": 3,
      "metadata": {
        "id": "eyOFgs4KSVTZ"
      },
      "outputs": [],
      "source": [
        "import pandas\n",
        "import json\n",
        "import timeit\n",
        "import ast\n",
        "import requests"
      ]
    },
    {
      "cell_type": "code",
      "execution_count": 4,
      "metadata": {
        "id": "NRScJlytEkCd"
      },
      "outputs": [],
      "source": [
        "# REQUEST BULK DATA\n",
        "response = requests.get(\"https://api.scryfall.com/bulk-data/default-cards\") # The download uri this points to is a json file with over 80,000 files.\n",
        "if response.status_code != 200:\n",
        "    print(\"Response failed with status code: \" + str(response.status_code))\n",
        "data = response.json()"
      ]
    },
    {
      "cell_type": "code",
      "execution_count": 5,
      "metadata": {
        "id": "0btgOly5Fd8d"
      },
      "outputs": [],
      "source": [
        "# DOWNLOAD CARD DATA\n",
        "download = data[\"download_uri\"]\n",
        "downloaded = requests.get(download, stream=True)\n",
        "if downloaded.status_code != 200:\n",
        "  print(\"Download failed with status code: \" + str(downloaded.status_code))\n",
        "\n",
        "# 88666 cards from bulk-data/default-cards\n",
        "cards = downloaded.json()"
      ]
    },
    {
      "cell_type": "code",
      "execution_count": 1,
      "metadata": {
        "colab": {
          "base_uri": "https://localhost:8080/",
          "height": 516
        },
        "id": "-6NV2BUHGunl",
        "outputId": "89735a4c-2df1-432d-8a42-97bae4be49bd"
      },
      "outputs": [
        {
          "name": "stdout",
          "output_type": "stream",
          "text": [
            "{\"object\":\"card\",\"id\":\"0000579f-7b35-4ed3-b44c-db2a538066fe\",\"oracle_id\":\"44623693-51d6-49ad-8cd7-140505caf02f\",\"multiverse_ids\":[109722],\"mtgo_id\":25527,\"mtgo_foil_id\":25528,\"tcgplayer_id\":14240,\"cardmarket_id\":13850,\"name\":\"Fury Sliver\",\"lang\":\"en\",\"released_at\":\"2006-10-06\",\"uri\":\"https://api.scryfall.com/cards/0000579f-7b35-4ed3-b44c-db2a538066fe\",\"scryfall_uri\":\"https://scryfall.com/card/tsp/157/fury-sliver?utm_source=api\",\"layout\":\"normal\",\"highres_image\":true,\"image_status\":\"highres_scan\",\"image_uris\":{\"small\":\"https://cards.scryfall.io/small/front/0/0/0000579f-7b35-4ed3-b44c-db2a538066fe.jpg?1562894979\",\"normal\":\"https://cards.scryfall.io/normal/front/0/0/0000579f-7b35-4ed3-b44c-db2a538066fe.jpg?1562894979\",\"large\":\"https://cards.scryfall.io/large/front/0/0/0000579f-7b35-4ed3-b44c-db2a538066fe.jpg?1562894979\",\"png\":\"https://cards.scryfall.io/png/front/0/0/0000579f-7b35-4ed3-b44c-db2a538066fe.png?1562894979\",\"art_crop\":\"https://cards.scryfall.io/art_crop/front/0/0/0000579f-7b35-4ed3-b44c-db2a538066fe.jpg?1562894979\",\"border_crop\":\"https://cards.scryfall.io/border_crop/front/0/0/0000579f-7b35-4ed3-b44c-db2a538066fe.jpg?1562894979\"},\"mana_cost\":\"{5}{R}\",\"cmc\":6.0,\"type_line\":\"Creature — Sliver\",\"oracle_text\":\"All Sliver creatures have double strike.\",\"power\":\"3\",\"toughness\":\"3\",\"colors\":[\"R\"],\"color_identity\":[\"R\"],\"keywords\":[],\"legalities\":{\"standard\":\"not_legal\",\"future\":\"not_legal\",\"historic\":\"not_legal\",\"gladiator\":\"not_legal\",\"pioneer\":\"not_legal\",\"explorer\":\"not_legal\",\"modern\":\"legal\",\"legacy\":\"legal\",\"pauper\":\"not_legal\",\"vintage\":\"legal\",\"penny\":\"not_legal\",\"commander\":\"legal\",\"oathbreaker\":\"legal\",\"brawl\":\"not_legal\",\"historicbrawl\":\"not_legal\",\"alchemy\":\"not_legal\",\"paupercommander\":\"restricted\",\"duel\":\"legal\",\"oldschool\":\"not_legal\",\"premodern\":\"not_legal\",\"predh\":\"legal\"},\"games\":[\"paper\",\"mtgo\"],\"reserved\":false,\"foil\":true,\"nonfoil\":true,\"finishes\":[\"nonfoil\",\"foil\"],\"oversized\":false,\"promo\":false,\"reprint\":false,\"variation\":false,\"set_id\":\"c1d109bc-ffd8-428f-8d7d-3f8d7e648046\",\"set\":\"tsp\",\"set_name\":\"Time Spiral\",\"set_type\":\"expansion\",\"set_uri\":\"https://api.scryfall.com/sets/c1d109bc-ffd8-428f-8d7d-3f8d7e648046\",\"set_search_uri\":\"https://api.scryfall.com/cards/search?order=set&q=e%3Atsp&unique=prints\",\"scryfall_set_uri\":\"https://scryfall.com/sets/tsp?utm_source=api\",\"rulings_uri\":\"https://api.scryfall.com/cards/0000579f-7b35-4ed3-b44c-db2a538066fe/rulings\",\"prints_search_uri\":\"https://api.scryfall.com/cards/search?order=released&q=oracleid%3A44623693-51d6-49ad-8cd7-140505caf02f&unique=prints\",\"collector_number\":\"157\",\"digital\":false,\"rarity\":\"uncommon\",\"flavor_text\":\"\\\"A rift opened, and our arrows were abruptly stilled. To move was to push the world. But the sliver's claw still twitched, red wounds appeared in Thed's chest, and ribbons of blood hung in the air.\\\"\\n—Adom Capashen, Benalish hero\",\"card_back_id\":\"0aeebaf5-8c7d-4636-9e82-8c27447861f7\",\"artist\":\"Paolo Parente\",\"artist_ids\":[\"d48dd097-720d-476a-8722-6a02854ae28b\"],\"illustration_id\":\"2fcca987-364c-4738-a75b-099d8a26d614\",\"border_color\":\"black\",\"frame\":\"2003\",\"full_art\":false,\"textless\":false,\"booster\":true,\"story_spotlight\":false,\"edhrec_rank\":6467,\"penny_rank\":11462,\"prices\":{\"usd\":\"0.44\",\"usd_foil\":\"4.48\",\"usd_etched\":null,\"eur\":\"0.10\",\"eur_foil\":\"0.25\",\"tix\":\"0.03\"},\"related_uris\":{\"gatherer\":\"https://gatherer.wizards.com/Pages/Card/Details.aspx?multiverseid=109722\",\"tcgplayer_infinite_articles\":\"https://infinite.tcgplayer.com/search?contentMode=article&game=magic&partner=scryfall&q=Fury+Sliver&utm_campaign=affiliate&utm_medium=api&utm_source=scryfall\",\"tcgplayer_infinite_decks\":\"https://infinite.tcgplayer.com/search?contentMode=deck&game=magic&partner=scryfall&q=Fury+Sliver&utm_campaign=affiliate&utm_medium=api&utm_source=scryfall\",\"edhrec\":\"https://edhrec.com/route/?cc=Fury+Sliver\"},\"purchase_uris\":{\"tcgplayer\":\"https://www.tcgplayer.com/product/14240?page=1&utm_campaign=affiliate&utm_medium=api&utm_source=scryfall\",\"cardmarket\":\"https://www.cardmarket.com/en/Magic/Products/Search?referrer=scryfall&searchString=Fury+Sliver&utm_campaign=card_prices&utm_medium=text&utm_source=scryfall\",\"cardhoarder\":\"https://www.cardhoarder.com/cards/25527?affiliate_id=scryfall&ref=card-profile&utm_campaign=affiliate&utm_medium=card&utm_source=scryfall\"}},\n",
            "\n",
            "{\"object\":\"card\",\"id\":\"ffff9a29-22a5-4968-af92-b28773f49654\",\"oracle_id\":\"795e0ffb-fcd9-4cb9-ad18-8a0217229bfe\",\"multiverse_ids\":[481954],\"name\":\"Unlikely Aid\",\"printed_name\":\"意外援助\",\"lang\":\"zhs\",\"released_at\":\"2020-04-24\",\"uri\":\"https://api.scryfall.com/cards/ffff9a29-22a5-4968-af92-b28773f49654\",\"scryfall_uri\":\"https://scryfall.com/card/iko/103/zhs/%E6%84%8F%E5%A4%96%E6%8F%B4%E5%8A%A9?utm_source=api\",\"layout\":\"normal\",\"highres_image\":false,\"image_status\":\"lowres\",\"image_uris\":{\"small\":\"https://cards.scryfall.io/small/front/f/f/ffff9a29-22a5-4968-af92-b28773f49654.jpg?1645791086\",\"normal\":\"https://cards.scryfall.io/normal/front/f/f/ffff9a29-22a5-4968-af92-b28773f49654.jpg?1645791086\",\"large\":\"https://cards.scryfall.io/large/front/f/f/ffff9a29-22a5-4968-af92-b28773f49654.jpg?1645791086\",\"png\":\"https://cards.scryfall.io/png/front/f/f/ffff9a29-22a5-4968-af92-b28773f49654.png?1645791086\",\"art_crop\":\"https://cards.scryfall.io/art_crop/front/f/f/ffff9a29-22a5-4968-af92-b28773f49654.jpg?1645791086\",\"border_crop\":\"https://cards.scryfall.io/border_crop/front/f/f/ffff9a29-22a5-4968-af92-b28773f49654.jpg?1645791086\"},\"mana_cost\":\"{1}{B}\",\"cmc\":2.0,\"type_line\":\"Instant\",\"printed_type_line\":\"瞬间\",\"oracle_text\":\"Target creature gets +2/+0 and gains indestructible until end of turn. (Damage and effects that say \\\"destroy\\\" don't destroy it.)\",\"printed_text\":\"直到回合结束，目标生物得+2/+0且获得不灭异能。（伤害与注明「消灭」的效应不会将它消灭。）\",\"colors\":[\"B\"],\"color_identity\":[\"B\"],\"keywords\":[],\"legalities\":{\"standard\":\"not_legal\",\"future\":\"not_legal\",\"historic\":\"legal\",\"gladiator\":\"legal\",\"pioneer\":\"legal\",\"explorer\":\"legal\",\"modern\":\"legal\",\"legacy\":\"legal\",\"pauper\":\"legal\",\"vintage\":\"legal\",\"penny\":\"legal\",\"commander\":\"legal\",\"oathbreaker\":\"legal\",\"brawl\":\"not_legal\",\"historicbrawl\":\"legal\",\"alchemy\":\"legal\",\"paupercommander\":\"legal\",\"duel\":\"legal\",\"oldschool\":\"not_legal\",\"premodern\":\"not_legal\",\"predh\":\"not_legal\"},\"games\":[\"arena\",\"paper\",\"mtgo\"],\"reserved\":false,\"foil\":true,\"nonfoil\":true,\"finishes\":[\"nonfoil\",\"foil\"],\"oversized\":false,\"promo\":false,\"reprint\":true,\"variation\":false,\"set_id\":\"19feda43-15ab-427e-a0e4-148a4bf2b03a\",\"set\":\"iko\",\"set_name\":\"Ikoria: Lair of Behemoths\",\"set_type\":\"expansion\",\"set_uri\":\"https://api.scryfall.com/sets/19feda43-15ab-427e-a0e4-148a4bf2b03a\",\"set_search_uri\":\"https://api.scryfall.com/cards/search?order=set&q=e%3Aiko&unique=prints\",\"scryfall_set_uri\":\"https://scryfall.com/sets/iko?utm_source=api\",\"rulings_uri\":\"https://api.scryfall.com/cards/ffff9a29-22a5-4968-af92-b28773f49654/rulings\",\"prints_search_uri\":\"https://api.scryfall.com/cards/search?order=released&q=oracleid%3A795e0ffb-fcd9-4cb9-ad18-8a0217229bfe&unique=prints\",\"collector_number\":\"103\",\"digital\":false,\"rarity\":\"common\",\"flavor_text\":\"「非常感谢你救了我，没让我落入酸沼丧命。那现在能把我放下来了吗？」\",\"card_back_id\":\"0aeebaf5-8c7d-4636-9e82-8c27447861f7\",\"artist\":\"Randy Vargas\",\"artist_ids\":[\"d20672ca-0555-4238-a984-fd171d36b247\"],\"illustration_id\":\"4bb10893-65d3-4c9c-8a07-3617dc14ff2e\",\"border_color\":\"black\",\"frame\":\"2015\",\"full_art\":false,\"textless\":false,\"booster\":true,\"story_spotlight\":false,\"edhrec_rank\":9689,\"penny_rank\":9375,\"prices\":{\"usd\":null,\"usd_foil\":null,\"usd_etched\":null,\"eur\":null,\"eur_foil\":null,\"tix\":null},\"related_uris\":{\"gatherer\":\"https://gatherer.wizards.com/Pages/Card/Details.aspx?multiverseid=481954&printed=true\",\"tcgplayer_infinite_articles\":\"https://infinite.tcgplayer.com/search?contentMode=article&game=magic&partner=scryfall&q=Unlikely+Aid&utm_campaign=affiliate&utm_medium=api&utm_source=scryfall\",\"tcgplayer_infinite_decks\":\"https://infinite.tcgplayer.com/search?contentMode=deck&game=magic&partner=scryfall&q=Unlikely+Aid&utm_campaign=affiliate&utm_medium=api&utm_source=scryfall\",\"edhrec\":\"https://edhrec.com/route/?cc=Unlikely+Aid\"},\"purchase_uris\":{\"tcgplayer\":\"https://www.tcgplayer.com/search/magic/product?productLineName=magic&q=Unlikely+Aid&utm_campaign=affiliate&utm_medium=api&utm_source=scryfall&view=grid\",\"cardmarket\":\"https://www.cardmarket.com/en/Magic/Products/Search?referrer=scryfall&searchString=Unlikely+Aid&utm_campaign=card_prices&utm_medium=text&utm_source=scryfall\",\"cardhoarder\":\"https://www.cardhoarder.com/cards?affiliate_id=scryfall&data%5Bsearch%5D=Unlikely+Aid&ref=card-profile&utm_campaign=affiliate&utm_medium=card&utm_source=scryfall\"}}\n",
            "\n",
            "433612\n"
          ]
        }
      ],
      "source": [
        "df = pandas.DataFrame(cards)\n",
        "print(df.head())"
      ]
    }
  ],
  "metadata": {
    "colab": {
      "provenance": []
    },
    "kernelspec": {
      "display_name": "Python 3",
      "name": "python3"
    },
    "language_info": {
      "codemirror_mode": {
        "name": "ipython",
        "version": 3
      },
      "file_extension": ".py",
      "mimetype": "text/x-python",
      "name": "python",
      "nbconvert_exporter": "python",
      "pygments_lexer": "ipython3",
      "version": "3.10.12"
    }
  },
  "nbformat": 4,
  "nbformat_minor": 0
}
